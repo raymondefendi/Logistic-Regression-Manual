{
  "nbformat": 4,
  "nbformat_minor": 0,
  "metadata": {
    "colab": {
      "name": "UAS_ML_LOGREG_RAYMOOND.ipynb",
      "provenance": [],
      "collapsed_sections": []
    },
    "kernelspec": {
      "name": "python3",
      "display_name": "Python 3"
    },
    "language_info": {
      "name": "python"
    }
  },
  "cells": [
    {
      "cell_type": "markdown",
      "metadata": {
        "id": "kzr65cD6mlcE"
      },
      "source": [
        "**Raymoond-2301872381**"
      ]
    },
    {
      "cell_type": "code",
      "metadata": {
        "colab": {
          "base_uri": "https://localhost:8080/"
        },
        "id": "Q2C4vFTqMHDX",
        "outputId": "45024157-6165-48bc-c904-a692744006bc"
      },
      "source": [
        " import pandas as pd\n",
        "import numpy as np\n",
        "import matplotlib.pyplot as plt\n",
        "import seaborn as sns\n",
        "from sklearn.cluster import KMeans\n",
        "from sklearn.metrics import silhouette_score\n",
        "from scipy.stats import multivariate_normal\n",
        "from sklearn.mixture import gaussian_mixture\n",
        "from sklearn.preprocessing import MinMaxScaler\n",
        "from sklearn.model_selection import train_test_split"
      ],
      "execution_count": null,
      "outputs": [
        {
          "output_type": "stream",
          "text": [
            "/usr/local/lib/python3.7/dist-packages/sklearn/utils/deprecation.py:144: FutureWarning: The sklearn.mixture.gaussian_mixture module is  deprecated in version 0.22 and will be removed in version 0.24. The corresponding classes / functions should instead be imported from sklearn.mixture. Anything that cannot be imported from sklearn.mixture is now part of the private API.\n",
            "  warnings.warn(message, FutureWarning)\n"
          ],
          "name": "stderr"
        }
      ]
    },
    {
      "cell_type": "markdown",
      "metadata": {
        "id": "eQpIaEgdn-KJ"
      },
      "source": [
        "Import Esential neeed function and library"
      ]
    },
    {
      "cell_type": "code",
      "metadata": {
        "id": "EFdNbw503MuI"
      },
      "source": [
        "train_data = {'gmat':[780, 750, 690, 710, 680, 730, 690, 720, 740, 690, 610, 690, 710, 680, 770, 610, 580, 650, 540, 590, 620, 600, 550, 550, 570, 670, 660, 580, 650, 660, 640, 620, 660, 660, 680, 650, 670, 580, 590, 690],\n",
        "        'gpa':[4, 3.9, 3.3, 3.7, 3.9, 3.7, 2.3, 3.3, 3.3, 1.7, 2.7, 3.7, 3.7, 3.3, 3.3, 3, 2.7, 3.7, 2.7, 2.3, 3.3, 2, 2.3, 2.7, 3, 3.3, 3.7, 2.3, 3.7, 3.3, 3, 2.7, 4, 3.3, 3.3, 2.3, 2.7, 3.3, 1.7, 2.7],\n",
        "        'work_experience':[3, 4, 3, 5, 4, 6, 1, 4, 5, 1, 3, 5, 6, 4, 3, 1, 4, 6, 2, 3, 2, 1, 4, 1, 2, 6, 4, 2, 6, 5, 1, 2, 4, 6, 5, 1, 2, 1, 4, 5],\n",
        "        'admitted':[1, 1, 0, 1, 0, 1, 0, 1, 1, 0, 0, 1, 1, 0, 1, 0, 0, 1, 0, 0, 1, 0, 0, 0, 0, 1, 1, 0, 1, 1, 0, 0, 1, 1, 1, 0, 0, 0, 0, 1]}"
      ],
      "execution_count": null,
      "outputs": []
    },
    {
      "cell_type": "markdown",
      "metadata": {
        "id": "y0L8M3rtn5mb"
      },
      "source": [
        "Disini Saya menginput Dataset sesuai dengan yang soal berikan"
      ]
    },
    {
      "cell_type": "code",
      "metadata": {
        "id": "8Tz9_4IB3tqO"
      },
      "source": [
        "train_dataset = pd.DataFrame(train_data)"
      ],
      "execution_count": null,
      "outputs": []
    },
    {
      "cell_type": "markdown",
      "metadata": {
        "id": "6C0TwhGCu-TW"
      },
      "source": [
        "Melakukan conversi dataset menggunakan pandas dataframe"
      ]
    },
    {
      "cell_type": "code",
      "metadata": {
        "id": "aoPGB7LNnY-A"
      },
      "source": [
        "keys = train_data.keys()"
      ],
      "execution_count": null,
      "outputs": []
    },
    {
      "cell_type": "markdown",
      "metadata": {
        "id": "moEsAJA5vDWQ"
      },
      "source": [
        "Memberikan kunci kepada train data"
      ]
    },
    {
      "cell_type": "code",
      "metadata": {
        "id": "yBfeNvNhnZXH"
      },
      "source": [
        "scaler = MinMaxScaler()\n",
        "scaler.fit(train_dataset)\n",
        "\n",
        "train_dataset = scaler.transform(train_dataset)\n",
        "train_dataset = pd.DataFrame(train_dataset, columns = keys)"
      ],
      "execution_count": null,
      "outputs": []
    },
    {
      "cell_type": "markdown",
      "metadata": {
        "id": "2uWEJlrRvFnj"
      },
      "source": [
        "Mengubah data menjadi skalar menggunakan min max scaler"
      ]
    },
    {
      "cell_type": "code",
      "metadata": {
        "id": "z-EYtqC53vYg"
      },
      "source": [
        "X = train_dataset.drop(\"admitted\", axis=1)\n",
        "Y = train_dataset['admitted']"
      ],
      "execution_count": null,
      "outputs": []
    },
    {
      "cell_type": "markdown",
      "metadata": {
        "id": "hicoUdSYvJnf"
      },
      "source": [
        "Membagi menjadi feature dan label dimana x adalah feature dan y adalah label"
      ]
    },
    {
      "cell_type": "code",
      "metadata": {
        "id": "WhAucP835j6-"
      },
      "source": [
        "x_train, x_test, y_train, y_test = train_test_split(X, Y, test_size = 0.3, random_state = 0)\n",
        "\n",
        "x_train = x_train.values\n",
        "y_train = y_train.values\n",
        "x_test = x_test.values\n",
        "y_test = y_test.values"
      ],
      "execution_count": null,
      "outputs": []
    },
    {
      "cell_type": "markdown",
      "metadata": {
        "id": "Dv95p0A8vNAi"
      },
      "source": [
        "Membagi training size dan test size 70 % dan 30% dan mendapatkan value dari setiap training dan testing"
      ]
    },
    {
      "cell_type": "code",
      "metadata": {
        "id": "iCIbCFGT5lcT"
      },
      "source": [
        "x_train  = x_train.T\n",
        "x_test  = x_test.T\n",
        "\n",
        "y_train  = y_train.reshape(1, x_train.shape[1])\n",
        "y_test  = y_test.reshape(1, x_test.shape[1])"
      ],
      "execution_count": null,
      "outputs": []
    },
    {
      "cell_type": "markdown",
      "metadata": {
        "id": "U1VrsXRkwPKB"
      },
      "source": [
        "Melakukan transpose dan reshape agar data bisa dilanjutkan ke tahap berikutnya"
      ]
    },
    {
      "cell_type": "code",
      "metadata": {
        "id": "H5aOWzXQ4-0b"
      },
      "source": [
        "def sigmoid(Z):\n",
        "    return 1 / (1 + np.exp(-Z))"
      ],
      "execution_count": null,
      "outputs": []
    },
    {
      "cell_type": "code",
      "metadata": {
        "id": "aoz100d381x_"
      },
      "source": [
        "def model(X, Y, lr, epoch):\n",
        "    m = X.shape[1]\n",
        "    f = X.shape[0]\n",
        "    \n",
        "    W = np.zeros((f,1))\n",
        "    B = 0\n",
        "    \n",
        "    cost_list = []\n",
        "    \n",
        "    for i in range(epoch):\n",
        "        \n",
        "        Z = np.dot(W.T, X) + B\n",
        "        A = sigmoid(Z)\n",
        "        \n",
        "    \n",
        "        cost = -(1/m)*np.sum( Y*np.log(A) + (1-Y)*np.log(1-A))\n",
        "        \n",
        "     \n",
        "        dW = (1/m)*np.dot(A-Y, X.T)\n",
        "        dB = (1/m)*np.sum(A - Y)\n",
        "        \n",
        "        W = W - lr*dW.T\n",
        "        B = B - lr*dB\n",
        "        \n",
        "        cost_list.append(cost)\n",
        "        \n",
        "        if(i%(epoch/10) == 0):\n",
        "            print(\"epoch : \",i,\"  |  cost : \",cost)\n",
        "        \n",
        "    return W, B, cost_list"
      ],
      "execution_count": null,
      "outputs": []
    },
    {
      "cell_type": "markdown",
      "metadata": {
        "id": "-73Ijhdtx4-s"
      },
      "source": [
        "Melakuka tahap sigmoid dan membuat model mencari gradient decent dan cost function dan untuk menemukan weight dan bias"
      ]
    },
    {
      "cell_type": "code",
      "metadata": {
        "id": "2qbR1Zj79A56"
      },
      "source": [
        "class LogisticRegression:\n",
        "    def __init__(self, lr=0.01, num_iter=100000, fit_intercept=True, verbose=False):\n",
        "        self.lr = lr\n",
        "        self.num_iter = num_iter\n",
        "        self.fit_intercept = fit_intercept\n",
        "    \n",
        "    def __add_intercept(self, X):\n",
        "        intercept = np.ones((X.shape[0], 1))\n",
        "        return np.concatenate((intercept, X), axis=1)\n",
        "    \n",
        "    def __sigmoid(self, z):\n",
        "        return 1 / (1 + np.exp(-z))\n",
        "    def __loss(self, h, y):\n",
        "        return (-y * np.log(h) - (1 - y) * np.log(1 - h)).mean()\n",
        "    \n",
        "    def fit(self, X, y):\n",
        "        if self.fit_intercept:\n",
        "            X = self.__add_intercept(X)\n",
        "        \n",
        "        # weights initialization\n",
        "        self.theta = np.zeros(X.shape[1])\n",
        "        \n",
        "        for i in range(self.num_iter):\n",
        "            z = np.dot(X, self.theta)\n",
        "            h = self.__sigmoid(z)\n",
        "            gradient = np.dot(X.T, (h - y)) / y.size\n",
        "            self.theta -= self.lr * gradient\n",
        "            \n",
        "            if(self.verbose == True and i % 10000 == 0):\n",
        "                z = np.dot(X, self.theta)\n",
        "                h = self.__sigmoid(z)\n",
        "                print(f'loss: {self.__loss(h, y)} \\t')\n",
        "    \n",
        "    def predict_prob(self, X):\n",
        "        if self.fit_intercept:\n",
        "            X = self.__add_intercept(X)\n",
        "    \n",
        "        return self.__sigmoid(np.dot(X, self.theta))\n",
        "    \n",
        "    def predict(self, X, threshold):\n",
        "        return self.predict_prob(X) >= threshold"
      ],
      "execution_count": null,
      "outputs": []
    },
    {
      "cell_type": "markdown",
      "metadata": {
        "id": "AIkaXvD-yCm7"
      },
      "source": [
        "Melanjutkan di tahap logistic regression"
      ]
    },
    {
      "cell_type": "code",
      "metadata": {
        "colab": {
          "base_uri": "https://localhost:8080/"
        },
        "id": "MxSJXxat-iwm",
        "outputId": "5254e916-345c-4424-847c-0479d67a1b08"
      },
      "source": [
        "epoch = 10000\n",
        "learning_rate = 0.5\n",
        "W, B, cost_list = model(x_train, y_train, lr = learning_rate, epoch = epoch)"
      ],
      "execution_count": null,
      "outputs": [
        {
          "output_type": "stream",
          "text": [
            "epoch :  0   |  cost :  0.693147180559945\n",
            "epoch :  1000   |  cost :  0.129127190196229\n",
            "epoch :  2000   |  cost :  0.10867854010124135\n",
            "epoch :  3000   |  cost :  0.09917146612355765\n",
            "epoch :  4000   |  cost :  0.09310434549700397\n",
            "epoch :  5000   |  cost :  0.08867693169597778\n",
            "epoch :  6000   |  cost :  0.0851983782840379\n",
            "epoch :  7000   |  cost :  0.08233621876346368\n",
            "epoch :  8000   |  cost :  0.07990659675242266\n",
            "epoch :  9000   |  cost :  0.07779758941450537\n"
          ],
          "name": "stdout"
        }
      ]
    },
    {
      "cell_type": "markdown",
      "metadata": {
        "id": "2gyBLRRUyFSP"
      },
      "source": [
        "Megunakan data yang sudah diproses di atas dan melakukan di bagian testing dengan epoch 10000 dan learning rate 0.5"
      ]
    },
    {
      "cell_type": "code",
      "metadata": {
        "colab": {
          "base_uri": "https://localhost:8080/",
          "height": 279
        },
        "id": "7-oO3eyT_G37",
        "outputId": "146563bd-f6d1-41ff-f4ae-11f22e940c8f"
      },
      "source": [
        "plt.plot(np.arange(epoch), cost_list)\n",
        "plt.xlabel('Epochs')\n",
        "plt.ylabel('Cost')\n",
        "plt.show()"
      ],
      "execution_count": null,
      "outputs": [
        {
          "output_type": "display_data",
          "data": {
            "image/png": "[encoded data removed]",
            "text/plain": [
              "<Figure size 432x288 with 1 Axes>"
            ]
          },
          "metadata": {
            "tags": [],
            "needs_background": "light"
          }
        }
      ]
    },
    {
      "cell_type": "markdown",
      "metadata": {
        "id": "Axq5AMUiyREZ"
      },
      "source": [
        "Melakukan ploting untuk pengecekan logistic regression"
      ]
    },
    {
      "cell_type": "code",
      "metadata": {
        "id": "_NdG7G5a-j_l"
      },
      "source": [
        "def accuracy(X, Y, W, B):\n",
        "    \n",
        "    Z = np.dot(W.T, X) + B\n",
        "    A = sigmoid(Z)\n",
        "    \n",
        "    A = A > 0.5\n",
        "    \n",
        "    A = A.astype(int)\n",
        "    \n",
        "    acc = (1 - np.sum(np.absolute(A - Y))/Y.shape[1])*100  \n",
        "    print(\"Accuracy of the model is : \", round(acc, 2), \"%\")\n",
        "    \n",
        "    return A"
      ],
      "execution_count": null,
      "outputs": []
    },
    {
      "cell_type": "code",
      "metadata": {
        "colab": {
          "base_uri": "https://localhost:8080/"
        },
        "id": "cpjikbql-mn3",
        "outputId": "7daa1ed8-a60f-4637-a266-a80a2d7d68f1"
      },
      "source": [
        "y_pred = accuracy(x_test, y_test, W, B)"
      ],
      "execution_count": null,
      "outputs": [
        {
          "output_type": "stream",
          "text": [
            "Accuracy of the model is :  83.33 %\n"
          ],
          "name": "stdout"
        }
      ]
    },
    {
      "cell_type": "markdown",
      "metadata": {
        "id": "6VJ2oEYEyWRu"
      },
      "source": [
        "mecari akurasi dengan mengubah data yang dibawah 0.5 menjadi 0 dan diatas 0.5 menjadi 1 dan pada akhirnya mendapatkan akurasi sebesar 83.33%"
      ]
    },
    {
      "cell_type": "code",
      "metadata": {
        "id": "fkEHFiYhsDO_"
      },
      "source": [
        "Testing_data ={'gmat':[590, 740, 680, 610, 710],\n",
        "            'gpa':[2, 3.7, 3.3, 2.3, 3],\n",
        "            'work_experience':[3, 4, 6, 1, 5]}"
      ],
      "execution_count": null,
      "outputs": []
    },
    {
      "cell_type": "markdown",
      "metadata": {
        "id": "q17mbOhwyhXf"
      },
      "source": [
        "Melanjutkan mencari addmited dari testing data yang ada di soal"
      ]
    },
    {
      "cell_type": "code",
      "metadata": {
        "id": "TQL3s49-sFld"
      },
      "source": [
        "test_dataset = pd.DataFrame(Testing_data)"
      ],
      "execution_count": null,
      "outputs": []
    },
    {
      "cell_type": "code",
      "metadata": {
        "id": "DEDx9O8rs_j_"
      },
      "source": [
        "Test_keys = test_dataset.keys()"
      ],
      "execution_count": null,
      "outputs": []
    },
    {
      "cell_type": "code",
      "metadata": {
        "id": "BlYHQXgAtIpm"
      },
      "source": [
        "scaler = MinMaxScaler()\n",
        "scaler.fit(test_dataset)\n",
        "\n",
        "test_dataset = scaler.transform(test_dataset)\n",
        "test_dataset = pd.DataFrame(test_dataset, columns = Test_keys)\n",
        "New_x_test = test_dataset.T"
      ],
      "execution_count": null,
      "outputs": []
    },
    {
      "cell_type": "markdown",
      "metadata": {
        "id": "UUMDrUsEylIW"
      },
      "source": [
        "Sama seperti di atas, testing data juga melewati 3 tahap dimana dijadikan dataframe, diberkia kunci dan diubah menjadi scalar, data juga di transpose agar bisa digunakan"
      ]
    },
    {
      "cell_type": "code",
      "metadata": {
        "id": "qo3VW_7_BppF"
      },
      "source": [
        "def FindingLabel(X, W, B):\n",
        "    \n",
        "    Z = np.dot(W.T, X) + B\n",
        "    labeling = sigmoid(Z)\n",
        "    \n",
        "    labeling = labeling > 0.5\n",
        "\n",
        "    labeling = labeling.astype(int)\n",
        "    \n",
        "    return labeling"
      ],
      "execution_count": null,
      "outputs": []
    },
    {
      "cell_type": "code",
      "metadata": {
        "colab": {
          "base_uri": "https://localhost:8080/"
        },
        "id": "f2pPFoodCDiP",
        "outputId": "32dd2b71-dccb-4a2f-ea0b-979543e530b6"
      },
      "source": [
        "New_y_test = FindingLabel(New_x_test,W,B)\n",
        "New_y_test \n"
      ],
      "execution_count": null,
      "outputs": [
        {
          "output_type": "execute_result",
          "data": {
            "text/plain": [
              "array([[0, 1, 1, 0, 1]])"
            ]
          },
          "metadata": {
            "tags": []
          },
          "execution_count": 21
        }
      ]
    },
    {
      "cell_type": "markdown",
      "metadata": {
        "id": "lsrh79kQy2Xb"
      },
      "source": [
        "Mencari Weight dan bias dan untuk mendapatkan addmited, dari data testing dan menemukan array baru yang terdiri dari ([[0, 1, 1, 0, 1]])"
      ]
    },
    {
      "cell_type": "code",
      "metadata": {
        "colab": {
          "base_uri": "https://localhost:8080/",
          "height": 204
        },
        "id": "oKgoC0GSt6ge",
        "outputId": "9cd3c535-9c5f-4e3b-b322-3acf2a4b6cdb"
      },
      "source": [
        "Print_new_data = pd.DataFrame(Testing_data)\n",
        "addmited = [0, 1, 1, 0, 1]\n",
        "Print_new_data['addmited']= addmited\n",
        "Print_new_data"
      ],
      "execution_count": null,
      "outputs": [
        {
          "output_type": "execute_result",
          "data": {
            "text/html": [
              "<div>\n",
              "<style scoped>\n",
              "    .dataframe tbody tr th:only-of-type {\n",
              "        vertical-align: middle;\n",
              "    }\n",
              "\n",
              "    .dataframe tbody tr th {\n",
              "        vertical-align: top;\n",
              "    }\n",
              "\n",
              "    .dataframe thead th {\n",
              "        text-align: right;\n",
              "    }\n",
              "</style>\n",
              "<table border=\"1\" class=\"dataframe\">\n",
              "  <thead>\n",
              "    <tr style=\"text-align: right;\">\n",
              "      <th></th>\n",
              "      <th>gmat</th>\n",
              "      <th>gpa</th>\n",
              "      <th>work_experience</th>\n",
              "      <th>addmited</th>\n",
              "    </tr>\n",
              "  </thead>\n",
              "  <tbody>\n",
              "    <tr>\n",
              "      <th>0</th>\n",
              "      <td>590</td>\n",
              "      <td>2.0</td>\n",
              "      <td>3</td>\n",
              "      <td>0</td>\n",
              "    </tr>\n",
              "    <tr>\n",
              "      <th>1</th>\n",
              "      <td>740</td>\n",
              "      <td>3.7</td>\n",
              "      <td>4</td>\n",
              "      <td>1</td>\n",
              "    </tr>\n",
              "    <tr>\n",
              "      <th>2</th>\n",
              "      <td>680</td>\n",
              "      <td>3.3</td>\n",
              "      <td>6</td>\n",
              "      <td>1</td>\n",
              "    </tr>\n",
              "    <tr>\n",
              "      <th>3</th>\n",
              "      <td>610</td>\n",
              "      <td>2.3</td>\n",
              "      <td>1</td>\n",
              "      <td>0</td>\n",
              "    </tr>\n",
              "    <tr>\n",
              "      <th>4</th>\n",
              "      <td>710</td>\n",
              "      <td>3.0</td>\n",
              "      <td>5</td>\n",
              "      <td>1</td>\n",
              "    </tr>\n",
              "  </tbody>\n",
              "</table>\n",
              "</div>"
            ],
            "text/plain": [
              "   gmat  gpa  work_experience  addmited\n",
              "0   590  2.0                3         0\n",
              "1   740  3.7                4         1\n",
              "2   680  3.3                6         1\n",
              "3   610  2.3                1         0\n",
              "4   710  3.0                5         1"
            ]
          },
          "metadata": {
            "tags": []
          },
          "execution_count": 22
        }
      ]
    },
    {
      "cell_type": "markdown",
      "metadata": {
        "id": "Qtil-Ct7zy32"
      },
      "source": [
        "Dari Array tersebut saya masukan kedalam dataset  testing yang terdapat di soal(dataset awal sebelum dijadikan sacalar) dan mendaptkan addmited sesuai dengan yang soal inginkan\n",
        "\n",
        "Ini adalah tampilan akhirnya"
      ]
    }
  ]
}